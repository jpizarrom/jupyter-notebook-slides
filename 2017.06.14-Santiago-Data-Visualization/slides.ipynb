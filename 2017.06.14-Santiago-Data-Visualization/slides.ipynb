{
 "cells": [
  {
   "cell_type": "code",
   "execution_count": 1,
   "metadata": {
    "collapsed": true,
    "slideshow": {
     "slide_type": "skip"
    }
   },
   "outputs": [],
   "source": [
    "%matplotlib inline"
   ]
  },
  {
   "cell_type": "raw",
   "metadata": {
    "slideshow": {
     "slide_type": "skip"
    }
   },
   "source": [
    "<style type=\"text/css\">\n",
    ".reveal h1, .reveal h2 {\n",
    "    font-family:\"League Gothic\"\n",
    "}\n",
    "</style>"
   ]
  },
  {
   "cell_type": "markdown",
   "metadata": {
    "slideshow": {
     "slide_type": "notes"
    }
   },
   "source": []
  },
  {
   "cell_type": "markdown",
   "metadata": {
    "slideshow": {
     "slide_type": "slide"
    }
   },
   "source": [
    "# <center>  Transantiago Visualization </center>\n",
    "\n",
    "\n",
    "<center>\n",
    "\n",
    "\n",
    "<p> <b>Juan Pizarro</b>\n",
    "\n",
    "</center>"
   ]
  },
  {
   "cell_type": "markdown",
   "metadata": {
    "slideshow": {
     "slide_type": "slide"
    }
   },
   "source": [
    "## About me\n",
    "\n",
    "- Lead Developer at [Admetricks.com](https://www.admetricks.com)\n",
    "\n",
    "- [GitHub](http://github.com/jpizarrom)\n",
    "\n",
    "\n",
    "#### Contact\n",
    "\n",
    "- [@jpizarrom](http://twitter.com/jpizarrom)\n",
    "\n",
    "- [Email](mailto:jpizarrom@gmail.com)\n"
   ]
  },
  {
   "cell_type": "markdown",
   "metadata": {
    "slideshow": {
     "slide_type": "slide"
    }
   },
   "source": [
    "## Agenda\n",
    "\n",
    "- Motivación\n",
    "- Data\n",
    "- Cache Design\n",
    "- Get and store in S3\n",
    "- Custom S3 endpoint\n",
    " - http access\n",
    " - python + Boto 3\n",
    " - Scala + AWSJavaSDK\n",
    " - R + aws.s3\n",
    "- CRISP-DM\n",
    "- QA"
   ]
  },
  {
   "cell_type": "markdown",
   "metadata": {
    "slideshow": {
     "slide_type": "slide"
    }
   },
   "source": [
    "## Motivación"
   ]
  },
  {
   "cell_type": "markdown",
   "metadata": {
    "slideshow": {
     "slide_type": "subslide"
    }
   },
   "source": [
    "- http://obstransantiago.wixsite.com/obstransantiago"
   ]
  },
  {
   "cell_type": "markdown",
   "metadata": {
    "slideshow": {
     "slide_type": "subslide"
    }
   },
   "source": [
    "- Adatrap\n",
    "\n",
    "- https://scholar.google.cl/scholar?q=transantiago+gps&btnG=&hl=es&as_sdt=0%2C5"
   ]
  },
  {
   "cell_type": "markdown",
   "metadata": {
    "slideshow": {
     "slide_type": "subslide"
    }
   },
   "source": [
    "## Observadores sin conflicto de intereses?"
   ]
  },
  {
   "cell_type": "markdown",
   "metadata": {
    "slideshow": {
     "slide_type": "slide"
    }
   },
   "source": [
    "## Data"
   ]
  },
  {
   "cell_type": "markdown",
   "metadata": {
    "slideshow": {
     "slide_type": "subslide"
    }
   },
   "source": [
    "http://www.dtpm.cl/index.php/2013-04-24-14-09-09/datos-y-servicios"
   ]
  },
  {
   "cell_type": "markdown",
   "metadata": {
    "slideshow": {
     "slide_type": "subslide"
    }
   },
   "source": [
    "```json\n",
    "{\n",
    "\"fecha_consulta\": \"20161010233501\",\n",
    "\"posiciones\": [\n",
    "\"11-10-2016 02:32:45;BJFC-73;-33.414623260498;-70.7666549682617;0.0;0.0;5.0;T502;R;T502 00R;T502 00R;11-10-2016 02:32:51;11-10-2016 02:27:45;BJFC-73;-33.414623260498;-70.7666549682617;0.0;0.0;5.0;T502;R;T502 00R;T502 00R;11-10-2016 02:27:51;11-10-2016 02:22:45;BJFC-73;-33.414623260498;-70.7666549682617;0.0;0.0;5.0;T502;R;T502 0...\",\n",
    "\"11-10-2016 02:32:45;BJFC-73;-33.414623260498;-70.7666549682617;0.0;0.0;5.0;T502;R;T502 00R;T502 00R;11-10-2016 02:32:51;11-10-2016 02:27:45;BJFC-73;-33.414623260498;-70.7666549682617;0.0;0.0;5.0;T502;R;T502 00R;T502 00R;11-10-2016 02:27:51;11-10-2016 02:22:45;BJFC-73;-33.414623260498;-70.7666549682617;0.0;0.0;5.0;T502;R;T502 0...\"\n",
    "]}\n",
    "```"
   ]
  },
  {
   "cell_type": "markdown",
   "metadata": {
    "slideshow": {
     "slide_type": "subslide"
    }
   },
   "source": [
    "### Data schema"
   ]
  },
  {
   "cell_type": "markdown",
   "metadata": {
    "slideshow": {
     "slide_type": "subslide"
    }
   },
   "source": [
    "```javascript\n",
    "var vehicle = \"11-10-2016 02:32:45;BJFC-73;-33.414623260498;-70.7666549682617;0.0;0.0;5.0;T502;R;T502 00R;T502 00R;11-10-2016 02:32:51;11-10-2016 02:27:45;BJFC-73;-33.414623260498;-70.7666549682617;0.0;0.0;5.0;T502;R;T502 00R;T502 00R;11-10-2016 02:27:51;11-10-2016 02:22:45;BJFC-73;-33.414623260498;-70.7666549682617;0.0;0.0;5.0;T502;R;T502 00R;T502 00R;11-10-2016 02:22:51;11-10-2016 02:17:44;BJFC-73;-33.414623260498;-70.7666549682617;0.0;0.0;5.0;T502;R;T502 00R;T502 00R;11-10-2016 02:17:51;\";\n",
    "\n",
    "var arr = /^([^;]+[;]){1}([^;]+);([^;]+);([^;]+);([^;]+);([^;]+);([^;]+);([^;]+);([^;]+);([^;]+);([^;]+);([^;]+);([^;]+);/.exec(vehicle);\n",
    "```"
   ]
  },
  {
   "cell_type": "markdown",
   "metadata": {
    "slideshow": {
     "slide_type": "subslide"
    }
   },
   "source": [
    "```javascript\n",
    "[ '11-10-2016 02:32:45;BJFC-73;-33.414623260498;-70.7666549682617;0.0;0.0;5.0;T502;R;T502 00R;T502 00R;11-10-2016 02:32:51;11-10-2016 02:27:45;',\n",
    "  '11-10-2016 02:32:45;',\n",
    "  'BJFC-73',\n",
    "  '-33.414623260498',\n",
    "  '-70.7666549682617',\n",
    "  '0.0',\n",
    "  '0.0',\n",
    "  '5.0',\n",
    "  'T502',\n",
    "  'R',\n",
    "  'T502 00R',\n",
    "  'T502 00R',\n",
    "  '11-10-2016 02:32:51',\n",
    "  '11-10-2016 02:27:45',\n",
    "  index: 0,\n",
    "  input: '11-10-2016 02:32:45;BJFC-73;-33.414623260498;-70.7666549682617;0.0;0.0;5.0;T502;R;T502 00R;T502 00R;11-10-2016 02:32:51;11-10-2016 02:27:45;BJFC-73;-33.414623260498;-70.7666549682617;0.0;0.0;5.0;T502;R;T502 00R;T502 00R;11-10-2016 02:27:51;11-10-2016 02:22:45;BJFC-73;-33.414623260498;-70.7666549682617;0.0;0.0;5.0;T502;R;T502 00R;T502 00R;11-10-2016 02:22:51;11-10-2016 02:17:44;BJFC-73;-33.414623260498;-70.7666549682617;0.0;0.0;5.0;T502;R;T502 00R;T502 00R;11-10-2016 02:17:51;' ]\n",
    "```"
   ]
  },
  {
   "cell_type": "markdown",
   "metadata": {
    "slideshow": {
     "slide_type": "slide"
    }
   },
   "source": [
    "### Cache Design\n",
    "```\n",
    "Client +---> cloudflare +---> heroku/nginx/cache +---> s3\n",
    "```"
   ]
  },
  {
   "cell_type": "markdown",
   "metadata": {
    "slideshow": {
     "slide_type": "subslide"
    }
   },
   "source": [
    "<img align=\"center\" src=\"images/cloudflare-conf-cname.png\"></img>"
   ]
  },
  {
   "cell_type": "markdown",
   "metadata": {
    "slideshow": {
     "slide_type": "subslide"
    }
   },
   "source": [
    "<img align=\"center\" src=\"images/cloudflare-conf.png\"></img>"
   ]
  },
  {
   "cell_type": "markdown",
   "metadata": {
    "slideshow": {
     "slide_type": "subslide"
    }
   },
   "source": [
    "# heroku/nginx/cache\n",
    "\n",
    "- https://hub.docker.com/r/jpizarrom/openresty/tags/\n",
    "\n",
    "- https://github.com/jpizarrom/docker-openresty\n",
    "\n",
    "- https://github.com/anomalizer/ngx_aws_auth/tree/AuthV2"
   ]
  },
  {
   "cell_type": "markdown",
   "metadata": {
    "slideshow": {
     "slide_type": "subslide"
    }
   },
   "source": [
    "```\n",
    "  server {\n",
    "    listen     8000;\n",
    "\n",
    "    location / {\n",
    "      proxy_pass http://your_s3_bucket.s3.amazonaws.com;\n",
    "\n",
    "      aws_access_key your_aws_access_key;\n",
    "      aws_secret_key the_secret_associated_with_the_above_access_key;\n",
    "      s3_bucket your_s3_bucket;\n",
    "\n",
    "      proxy_set_header Authorization $s3_auth_token;\n",
    "      proxy_set_header x-amz-date $aws_date;\n",
    "    }\n",
    "\n",
    "    # This is an example that does not use the server root for the proxy root\n",
    "\tlocation /myfiles {\n",
    "\t\n",
    "      rewrite /myfiles/(.*) /$1 break;\n",
    "      proxy_pass http://your_s3_bucket.s3.amazonaws.com/$1;\n",
    "\n",
    "      aws_access_key your_aws_access_key;\n",
    "      aws_secret_key the_secret_associated_with_the_above_access_key;\n",
    "      s3_bucket your_s3_bucket;\n",
    "      chop_prefix /myfiles; # Take out this part of the URL before signing it, since '/myfiles' will not be part of the URI sent to Amazon  \n",
    "\n",
    "\n",
    "      proxy_set_header Authorization $s3_auth_token;\n",
    "      proxy_set_header x-amz-date $aws_date;\n",
    "    }\n",
    "\n",
    "  }\n",
    "```"
   ]
  },
  {
   "cell_type": "markdown",
   "metadata": {
    "slideshow": {
     "slide_type": "slide"
    }
   },
   "source": [
    "### Get and Store\n",
    "\n",
    "```\n",
    "Probe +---> Storage\n",
    "```\n",
    "\n"
   ]
  },
  {
   "cell_type": "markdown",
   "metadata": {
    "slideshow": {
     "slide_type": "subslide"
    }
   },
   "source": [
    "### Get and store in S3\n",
    "\n",
    "```python\n",
    "req = urllib2.Request(os.environ['SERVICE_URL'])\n",
    "base64string = base64.b64encode('%s:%s' % (username, password))\n",
    "req.add_header(\"Authorization\", \"Basic %s\" % base64string)\n",
    "req.add_header('Accept-encoding', 'gzip')\n",
    "r = urllib2.urlopen(\n",
    "    req, timeout=int(os.environ.get('SERVICE_TIMEOUT', 120)), context=ctx)\n",
    "if r.info().get('Content-Encoding') == 'gzip':\n",
    "    buf = StringIO(r.read())\n",
    "    f = gzip.GzipFile(fileobj=buf)\n",
    "    data = json.load(f)\n",
    "else:\n",
    "    data = json.load(r)\n",
    "\n",
    "    ...\n",
    "\n",
    "s3_client.upload_file(tmp_file.name, bucket, s3_key, ExtraArgs=extra_args)\n",
    "\n",
    "```\n",
    "\n"
   ]
  },
  {
   "cell_type": "markdown",
   "metadata": {
    "slideshow": {
     "slide_type": "subslide"
    }
   },
   "source": [
    "### docker\n",
    "```\n",
    "FROM webhippie/python:2\n",
    "\n",
    "CMD [\"/bin/s6-svscan\", \"/etc/s6\"]\n",
    "\n",
    "ENV CRON_ENABLED true\n",
    "\n",
    "ADD requirements.txt /srv/app/requirements.txt\n",
    "RUN pip install -r /srv/app/requirements.txt\n",
    "\n",
    "ADD app.py /srv/app/app.py\n",
    "\n",
    "ADD rootfs /\n",
    "\n",
    "```\n",
    "\n",
    "\n"
   ]
  },
  {
   "cell_type": "markdown",
   "metadata": {
    "slideshow": {
     "slide_type": "subslide"
    }
   },
   "source": [
    "### docker cron\n",
    "```Shell\n",
    "* * * * * python /srv/app/app.py | awk '{ print strftime(\"%c: \"), $0; fflush(); }'\n",
    "```\n",
    "\n",
    "\n"
   ]
  },
  {
   "cell_type": "markdown",
   "metadata": {
    "slideshow": {
     "slide_type": "subslide"
    }
   },
   "source": [
    "### lambda\n",
    "\n"
   ]
  },
  {
   "cell_type": "markdown",
   "metadata": {
    "slideshow": {
     "slide_type": "subslide"
    }
   },
   "source": [
    "<img align=\"center\" src=\"images/s3-bucket.png\"></img>"
   ]
  },
  {
   "cell_type": "markdown",
   "metadata": {
    "slideshow": {
     "slide_type": "slide"
    }
   },
   "source": [
    "### Custom S3 endpoint\n",
    " - http access\n",
    " - python + Boto 3\n",
    " - Scala + AWSJavaSDK\n",
    " - R + aws.s3"
   ]
  },
  {
   "cell_type": "markdown",
   "metadata": {
    "slideshow": {
     "slide_type": "slide"
    }
   },
   "source": [
    "### http access"
   ]
  },
  {
   "cell_type": "markdown",
   "metadata": {
    "slideshow": {
     "slide_type": "subslide"
    }
   },
   "source": [
    "```Shell\n",
    "curl \"http://mtt-scl.data.pedalean.com/pedalean/?prefix=mtt-gz/2017/05/12/06/&max-keys=1000\"\n",
    "\n",
    "curl \"http://mtt-scl.data.pedalean.com/pedalean/mtt-gz/2017/05/12/06/20170512062502.json.gz\"\n",
    "\n",
    "```"
   ]
  },
  {
   "cell_type": "markdown",
   "metadata": {
    "slideshow": {
     "slide_type": "slide"
    }
   },
   "source": [
    "### python + Boto 3"
   ]
  },
  {
   "cell_type": "code",
   "execution_count": 2,
   "metadata": {
    "slideshow": {
     "slide_type": "subslide"
    }
   },
   "outputs": [
    {
     "data": {
      "text/plain": [
       "['mtt-gz/2017/04/20/01/20170420010001.json.gz',\n",
       " 'mtt-gz/2017/04/20/01/20170420010101.json.gz',\n",
       " 'mtt-gz/2017/04/20/01/20170420010201.json.gz',\n",
       " 'mtt-gz/2017/04/20/01/20170420010302.json.gz',\n",
       " 'mtt-gz/2017/04/20/01/20170420010401.json.gz']"
      ]
     },
     "execution_count": 2,
     "metadata": {},
     "output_type": "execute_result"
    }
   ],
   "source": [
    "import boto3\n",
    "from botocore.utils import fix_s3_host\n",
    "from botocore.handlers import disable_signing\n",
    "\n",
    "endpoint_url='http://mtt-scl.data.pedalean.com'\n",
    "bucket_name = 'pedalean'\n",
    "prefix = 'mtt-gz/2017/04/20/01/'\n",
    "\n",
    "resource = boto3.resource('s3', endpoint_url=endpoint_url)\n",
    "\n",
    "resource.meta.client.meta.events.unregister('before-sign.s3', fix_s3_host)\n",
    "resource.meta.client.meta.events.register('choose-signer.s3.*', disable_signing)\n",
    "\n",
    "bucket = resource.Bucket(bucket_name)\n",
    "\n",
    "key_list = [k.key for k in bucket.objects.filter(Prefix=prefix)]\n",
    "key_list[:5]"
   ]
  },
  {
   "cell_type": "code",
   "execution_count": 3,
   "metadata": {
    "slideshow": {
     "slide_type": "subslide"
    }
   },
   "outputs": [
    {
     "data": {
      "text/plain": [
       "{'Body': <botocore.response.StreamingBody at 0x108313748>,\n",
       " 'CacheControl': 'public, max-age=315360000',\n",
       " 'ContentType': 'application/json',\n",
       " 'Expires': datetime.datetime(2027, 6, 12, 3, 58, 40, tzinfo=tzutc()),\n",
       " 'LastModified': datetime.datetime(2017, 4, 20, 4, 1, 5, tzinfo=tzutc()),\n",
       " 'Metadata': {},\n",
       " 'ResponseMetadata': {'HTTPStatusCode': 200}}"
      ]
     },
     "execution_count": 3,
     "metadata": {},
     "output_type": "execute_result"
    }
   ],
   "source": [
    "import boto3\n",
    "from botocore.utils import fix_s3_host\n",
    "from botocore.handlers import disable_signing\n",
    "\n",
    "endpoint_url='http://mtt-scl.data.pedalean.com'\n",
    "bucket_name = 'pedalean'\n",
    "s3key = key_list[0]\n",
    "\n",
    "client = boto3.client('s3', endpoint_url=endpoint_url)\n",
    "\n",
    "client.meta.events.unregister('before-sign.s3', fix_s3_host)\n",
    "client.meta.events.register('choose-signer.s3.*', disable_signing)\n",
    "    \n",
    "response_key = client.get_object(Bucket=bucket_name,Key=s3key)\n",
    "response_key"
   ]
  },
  {
   "cell_type": "markdown",
   "metadata": {
    "slideshow": {
     "slide_type": "slide"
    }
   },
   "source": [
    "### Scala + AWSJavaSDK"
   ]
  },
  {
   "cell_type": "markdown",
   "metadata": {
    "slideshow": {
     "slide_type": "subslide"
    }
   },
   "source": [
    "```Scala\n",
    "import com.amazonaws.auth.AnonymousAWSCredentials\n",
    "import com.amazonaws.services.s3.AmazonS3Client\n",
    "import com.amazonaws.services.s3.S3ClientOptions\n",
    "\n",
    "val endpoint_url = \"http://mtt-scl.data.pedalean.com\"\n",
    "val credentials = new AnonymousAWSCredentials()\n",
    "val s3 = new AmazonS3Client(credentials)\n",
    "s3.setEndpoint(endpoint_url)\n",
    "s3.setS3ClientOptions(new S3ClientOptions().withPathStyleAccess(true))\n",
    "```"
   ]
  },
  {
   "cell_type": "markdown",
   "metadata": {
    "slideshow": {
     "slide_type": "subslide"
    }
   },
   "source": [
    "```Scala\n",
    "import com.amazonaws.services.s3.model.GetObjectRequest\n",
    "\n",
    "val s3Filename = \"mtt-gz/2017/04/29/12/20170429120002.json.gz\"\n",
    "val request = new GetObjectRequest(bucket, s3Filename)\n",
    "val wrappedObject = s3.getObject(request)\n",
    "val myData= scala.io.Source.fromInputStream(wrappedObject.getObjectContent()).mkString\n",
    "```"
   ]
  },
  {
   "cell_type": "markdown",
   "metadata": {
    "slideshow": {
     "slide_type": "subslide"
    }
   },
   "source": [
    "```Scala\n",
    "import scala.collection.JavaConverters._\n",
    "import scala.collection.JavaConversions.{collectionAsScalaIterable => asScala}\n",
    "import com.amazonaws.services.s3.model.ListObjectsRequest\n",
    "import com.amazonaws.services.s3.model.ObjectListing\n",
    "import com.amazonaws.services.s3.model.S3ObjectSummary\n",
    "import scala.collection.mutable.ListBuffer\n",
    "\n",
    "val request = new ListObjectsRequest()\n",
    "request.setBucketName(bucket)\n",
    "request.setPrefix(prefix)\n",
    "request.setMaxKeys(pageLength)\n",
    "\n",
    "val fileList = ListBuffer[(Int, String)]()\n",
    "var counter = 0\n",
    "\n",
    "var objectListing: ObjectListing = null\n",
    "\n",
    "do {\n",
    "  objectListing = s3.listObjects(request)\n",
    "  objectListing.getObjectSummaries.foreach { objectSummary =>\n",
    "  fileList += Tuple2(counter, objectSummary.getKey)\n",
    "            counter += 1\n",
    "  }\n",
    "  request.setMarker(objectListing.getNextMarker());\n",
    "} while (objectListing.isTruncated())\n",
    "\n",
    "val summaries = fileList.map(_._2).toList\n",
    "```"
   ]
  },
  {
   "cell_type": "markdown",
   "metadata": {
    "slideshow": {
     "slide_type": "slide"
    }
   },
   "source": [
    "### R + aws.s3"
   ]
  },
  {
   "cell_type": "markdown",
   "metadata": {
    "slideshow": {
     "slide_type": "subslide"
    }
   },
   "source": [
    "#### install\n",
    "\n",
    "```R\n",
    "if (!require(\"ghit\")) {\n",
    "    install.packages(\"ghit\")\n",
    "}\n",
    "ghit::install_github(\"jpizarrom/aws.s3[custom-url-schema]\", uninstall = TRUE, verbose = TRUE, build_vignettes = FALSE)\n",
    "library(\"aws.s3\")\n",
    "```"
   ]
  },
  {
   "cell_type": "markdown",
   "metadata": {
    "slideshow": {
     "slide_type": "subslide"
    }
   },
   "source": [
    "#### get bucket\n",
    "\n",
    "```R\n",
    "r <- get_bucket(prefix = 'mtt-gz/2017/', bucket = 'pedalean', base_url = \"mtt-scl.data.pedalean.com\", verbose=FALSE, check_region=FALSE, url_style=\"path\", url_schema=\"http://\", parse_response=TRUE, max=1000)\n",
    "r\n",
    "```"
   ]
  },
  {
   "cell_type": "markdown",
   "metadata": {
    "slideshow": {
     "slide_type": "slide"
    }
   },
   "source": [
    "## CRISP-DM\n",
    "\n",
    "- Phase 1: Business Understanding\n",
    "- Phase 2: Data Understanding\n",
    "- Phase 3: Data Preparation\n",
    "- Phase 4: Modeling\n",
    "- Phase 5: Evaluation\n",
    "- Phase 6: Deployment"
   ]
  },
  {
   "cell_type": "markdown",
   "metadata": {
    "slideshow": {
     "slide_type": "subslide"
    }
   },
   "source": [
    "## CRISP-DM\n",
    "\n",
    "<img align=\"center\" width=\"600\" src=\"https://upload.wikimedia.org/wikipedia/commons/b/b9/CRISP-DM_Process_Diagram.png\"></img>"
   ]
  },
  {
   "cell_type": "markdown",
   "metadata": {
    "slideshow": {
     "slide_type": "notes"
    }
   },
   "source": [
    "### Business Understanding"
   ]
  },
  {
   "cell_type": "markdown",
   "metadata": {
    "slideshow": {
     "slide_type": "subslide"
    }
   },
   "source": [
    "### Data Understanding\n",
    "\n",
    "- explore data (databricks LIVE demo)"
   ]
  },
  {
   "cell_type": "markdown",
   "metadata": {
    "slideshow": {
     "slide_type": "notes"
    }
   },
   "source": [
    "### Data Preparation"
   ]
  },
  {
   "cell_type": "markdown",
   "metadata": {
    "slideshow": {
     "slide_type": "notes"
    }
   },
   "source": [
    "### Modeling"
   ]
  },
  {
   "cell_type": "markdown",
   "metadata": {
    "slideshow": {
     "slide_type": "notes"
    }
   },
   "source": [
    "### Evaluation"
   ]
  },
  {
   "cell_type": "markdown",
   "metadata": {
    "slideshow": {
     "slide_type": "notes"
    }
   },
   "source": [
    "### Deployment"
   ]
  },
  {
   "cell_type": "markdown",
   "metadata": {
    "slideshow": {
     "slide_type": "slide"
    }
   },
   "source": [
    "## QA"
   ]
  },
  {
   "cell_type": "markdown",
   "metadata": {
    "slideshow": {
     "slide_type": "slide"
    }
   },
   "source": [
    "- Twitter: @jpizarrom\n",
    "\n",
    "- Email: jpizarrom@gmail.com\n",
    "    \n"
   ]
  },
  {
   "cell_type": "markdown",
   "metadata": {
    "slideshow": {
     "slide_type": "notes"
    }
   },
   "source": [
    "https://github.com/koldunovn/python_for_geosciences\n",
    "\n",
    "\n",
    "Collecting the data\n",
    "Data Understanding\n",
    "\n",
    "https://github.com/nmoraesmunter/BeTheChange\n",
    "\n",
    "https://github.com/mileserickson/tripshark\n",
    "\n",
    "https://github.com/FlorianWilhelm/gps_data_with_python\n",
    "\n",
    "https://github.com/torbenator/sdsmartcityhackathon/blob/master/Simulating%20and%20characterizing%20bus%20rider%20data%20-%20clean%20demo.ipynb\n",
    "\n",
    "https://github.com/toddwschneider/nyc-taxi-data\n",
    "\n",
    "https://github.com/chriswhong/nyctaxi"
   ]
  }
 ],
 "metadata": {
  "celltoolbar": "Slideshow",
  "kernelspec": {
   "display_name": "Python 3",
   "language": "python",
   "name": "python3"
  },
  "language_info": {
   "codemirror_mode": {
    "name": "ipython",
    "version": 3
   },
   "file_extension": ".py",
   "mimetype": "text/x-python",
   "name": "python",
   "nbconvert_exporter": "python",
   "pygments_lexer": "ipython3",
   "version": "3.4.3"
  }
 },
 "nbformat": 4,
 "nbformat_minor": 1
}
